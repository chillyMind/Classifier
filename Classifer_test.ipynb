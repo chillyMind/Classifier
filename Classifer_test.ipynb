{
 "cells": [
  {
   "cell_type": "code",
   "execution_count": 1,
   "metadata": {},
   "outputs": [],
   "source": [
    "from __future__ import print_function\n",
    "import argparse\n",
    "import os\n",
    "import random\n",
    "import torch\n",
    "import torch.nn as nn\n",
    "import torch.nn.parallel\n",
    "import torch.backends.cudnn as cudnn\n",
    "import torch.optim as optim\n",
    "import torch.utils.data\n",
    "import torchvision.datasets as dset\n",
    "import torchvision.transforms as transforms\n",
    "import torchvision.utils as vutils\n",
    "from torch.autograd import Variable\n",
    "import utils"
   ]
  },
  {
   "cell_type": "code",
   "execution_count": 71,
   "metadata": {},
   "outputs": [],
   "source": [
    "class opt():\n",
    "    def __init__(self):\n",
    "        self.testimg='sao.jpg'\n",
    "        self.workers=2\n",
    "        self.batchSize=4 #'input batch size') 배치사이즈\n",
    "        self.imageSize=224 #the height / width of the input image to network') 이미지 사이즈 (정방)\n",
    "        self.lr=0.0002 # 러닝레이트\n",
    "        self.m=0.9\n",
    "        #self.net='' # 트레이닝 처음 시작할때 이 주석을 해제함\n",
    "        self.net='model/net_1.pth' # 트레이닝을 이어서 할때 이 주석을 해제함\n",
    "        self.cuda=True # 쿠다 옵션 (CPU 트레이닝 일시에는 False)"
   ]
  },
  {
   "cell_type": "code",
   "execution_count": 72,
   "metadata": {},
   "outputs": [],
   "source": [
    "opt = opt() # opt 클래스 오브젝트 생성"
   ]
  },
  {
   "cell_type": "code",
   "execution_count": 67,
   "metadata": {},
   "outputs": [],
   "source": [
    "#트랜스폼 선언\n",
    "transform = transforms.Compose([\n",
    "    transforms.ToTensor(),\n",
    "    transforms.ToPILImage('RGB'),\n",
    "    transforms.ToTensor()\n",
    "])"
   ]
  },
  {
   "cell_type": "code",
   "execution_count": 68,
   "metadata": {},
   "outputs": [],
   "source": [
    "import torchvision.models as models\n",
    "\n",
    "# 모델 불러오기\n",
    "model = models.vgg16()\n",
    "if opt.cuda:\n",
    "    model.cuda()\n",
    "\n",
    "resume_epoch=0\n",
    "if opt.net != '':\n",
    "    model.load_state_dict(torch.load(opt.net,map_location=lambda storage, location: storage)['state_dict'])\n",
    "    resume_epoch = torch.load(opt.net)['epoch']\n",
    "    \n",
    "optimizer = optim.SGD(model.parameters(), lr=opt.lr, momentum=opt.m)"
   ]
  },
  {
   "cell_type": "code",
   "execution_count": 73,
   "metadata": {},
   "outputs": [
    {
     "name": "stdout",
     "output_type": "stream",
     "text": [
      "torch.Size([1, 3, 224, 224])\n",
      "inference's predictions Variable containing:\n",
      " 0\n",
      "[torch.cuda.LongTensor of size 1x1 (GPU 0)]\n",
      "\n"
     ]
    }
   ],
   "source": [
    "#single\n",
    "img = utils.load_image(opt.testimg, opt.imageSize)\n",
    "img = transform(img)\n",
    "inputs = torch.FloatTensor(1, 3, opt.imageSize, opt.imageSize)\n",
    "if torch.cuda.is_available():\n",
    "    inputs = inputs.cuda()\n",
    "print(inputs.size())\n",
    "inputs = Variable(inputs)\n",
    "inputs.data[0:] = img\n",
    "outputs = model(inputs)\n",
    "predictions = outputs.max(1, keepdim=True)[1]\n",
    "print(\"inference's predictions {}\".format(predictions))"
   ]
  },
  {
   "cell_type": "code",
   "execution_count": 74,
   "metadata": {},
   "outputs": [
    {
     "name": "stdout",
     "output_type": "stream",
     "text": [
      "makoto\n"
     ]
    }
   ],
   "source": [
    "classes = ['makoto', 'sao', 'shinchan', 'zibri']\n",
    "print(classes[predictions[0].data[0]])"
   ]
  }
 ],
 "metadata": {
  "kernelspec": {
   "display_name": "Python [conda env:py]",
   "language": "python",
   "name": "conda-env-py-py"
  },
  "language_info": {
   "codemirror_mode": {
    "name": "ipython",
    "version": 3
   },
   "file_extension": ".py",
   "mimetype": "text/x-python",
   "name": "python",
   "nbconvert_exporter": "python",
   "pygments_lexer": "ipython3",
   "version": "3.6.5"
  }
 },
 "nbformat": 4,
 "nbformat_minor": 2
}
